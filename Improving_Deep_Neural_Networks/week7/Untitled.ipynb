{
 "cells": [
  {
   "cell_type": "code",
   "execution_count": 1,
   "metadata": {
    "collapsed": true
   },
   "outputs": [],
   "source": [
    "import tensorflow as tf"
   ]
  },
  {
   "cell_type": "code",
   "execution_count": 2,
   "metadata": {},
   "outputs": [
    {
     "name": "stdout",
     "output_type": "stream",
     "text": [
      "Session 1\n",
      "[ 0.04742169]\n",
      "[ 0.82043362]\n",
      "[-0.40468338]\n",
      "[ 1.43377829]\n",
      "Session 2\n",
      "[ 0.90957654]\n",
      "[ 0.17272532]\n",
      "[ 1.20279706]\n",
      "[-0.35013148]\n"
     ]
    }
   ],
   "source": [
    "a = tf.random_uniform([1])\n",
    "b = tf.random_normal([1])\n",
    "\n",
    "print(\"Session 1\")\n",
    "with tf.Session() as sess1:\n",
    "  print(sess1.run(a))  # generates 'A1'\n",
    "  print(sess1.run(a))  # generates 'A2'\n",
    "  print(sess1.run(b))  # generates 'B1'\n",
    "  print(sess1.run(b))  # generates 'B2'\n",
    "\n",
    "print(\"Session 2\")\n",
    "with tf.Session() as sess2:\n",
    "  print(sess2.run(a))  # generates 'A3'\n",
    "  print(sess2.run(a))  # generates 'A4'\n",
    "  print(sess2.run(b))  # generates 'B3'\n",
    "  print(sess2.run(b))  # generates 'B4'"
   ]
  },
  {
   "cell_type": "code",
   "execution_count": 3,
   "metadata": {},
   "outputs": [
    {
     "name": "stdout",
     "output_type": "stream",
     "text": [
      "Session 1\n",
      "[ 0.23903739]\n",
      "[ 0.22267115]\n",
      "[ 0.8920818]\n",
      "[-0.05384991]\n",
      "Session 2\n",
      "[ 0.23903739]\n",
      "[ 0.22267115]\n",
      "[ 0.24040218]\n",
      "[ 1.39653254]\n"
     ]
    }
   ],
   "source": [
    "a = tf.random_uniform([1], seed=1)\n",
    "b = tf.random_normal([1])\n",
    "\n",
    "# Repeatedly running this block with the same graph will generate the same\n",
    "# sequence of values for 'a', but different sequences of values for 'b'.\n",
    "print(\"Session 1\")\n",
    "with tf.Session() as sess1:\n",
    "  print(sess1.run(a))  # generates 'A1'\n",
    "  print(sess1.run(a))  # generates 'A2'\n",
    "  print(sess1.run(b))  # generates 'B1'\n",
    "  print(sess1.run(b))  # generates 'B2'\n",
    "\n",
    "print(\"Session 2\")\n",
    "with tf.Session() as sess2:\n",
    "  print(sess2.run(a))  # generates 'A1'\n",
    "  print(sess2.run(a))  # generates 'A2'\n",
    "  print(sess2.run(b))  # generates 'B3'\n",
    "  print(sess2.run(b))  # generates 'B4'"
   ]
  },
  {
   "cell_type": "code",
   "execution_count": 6,
   "metadata": {},
   "outputs": [
    {
     "name": "stdout",
     "output_type": "stream",
     "text": [
      "Session 1\n",
      "[ 0.1211642]\n",
      "[ 0.41471958]\n",
      "[-1.76099801]\n",
      "[-1.82982743]\n",
      "Session 2\n",
      "[ 0.1211642]\n",
      "[ 0.41471958]\n",
      "[-1.76099801]\n",
      "[-1.82982743]\n"
     ]
    }
   ],
   "source": [
    "tf.set_random_seed(1234)\n",
    "a = tf.random_uniform([1])\n",
    "b = tf.random_normal([1])\n",
    "\n",
    "# Repeatedly running this block with the same graph will generate the same\n",
    "# sequences of 'a' and 'b'.\n",
    "print(\"Session 1\")\n",
    "with tf.Session() as sess1:\n",
    "  print(sess1.run(a))  # generates 'A1'\n",
    "  print(sess1.run(a))  # generates 'A2'\n",
    "  print(sess1.run(b))  # generates 'B1'\n",
    "  print(sess1.run(b))  # generates 'B2'\n",
    "\n",
    "print(\"Session 2\")\n",
    "with tf.Session() as sess2:\n",
    "  print(sess2.run(a))  # generates 'A1'\n",
    "  print(sess2.run(a))  # generates 'A2'\n",
    "  print(sess2.run(b))  # generates 'B1'\n",
    "  print(sess2.run(b))  # generates 'B2'"
   ]
  },
  {
   "cell_type": "code",
   "execution_count": null,
   "metadata": {
    "collapsed": true
   },
   "outputs": [],
   "source": []
  }
 ],
 "metadata": {
  "kernelspec": {
   "display_name": "Python 3",
   "language": "python",
   "name": "python3"
  },
  "language_info": {
   "codemirror_mode": {
    "name": "ipython",
    "version": 3
   },
   "file_extension": ".py",
   "mimetype": "text/x-python",
   "name": "python",
   "nbconvert_exporter": "python",
   "pygments_lexer": "ipython3",
   "version": "3.6.0"
  }
 },
 "nbformat": 4,
 "nbformat_minor": 2
}
